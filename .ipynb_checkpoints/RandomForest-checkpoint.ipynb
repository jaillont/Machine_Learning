{
 "cells": [
  {
   "cell_type": "markdown",
   "metadata": {
    "id": "EQEadF8UCG2R"
   },
   "source": [
    "\n",
    "**Premier Notebook** \\\n",
    "\n",
    "---\n",
    "\n",
    "Sur ce premier notebook j'ai testé plusieurs modèles différents pour finalement retenir la random forest.\n"
   ]
  },
  {
   "cell_type": "code",
   "execution_count": 25,
   "metadata": {
    "id": "0F9HaUt72Igr"
   },
   "outputs": [],
   "source": [
    "import pandas as pd"
   ]
  },
  {
   "cell_type": "code",
   "execution_count": 26,
   "metadata": {
    "id": "9ONR2EZm2MkH"
   },
   "outputs": [],
   "source": [
    "train_df = pd.read_csv(\"train.csv\")\n",
    "test_df = pd.read_csv(\"test.csv\")"
   ]
  },
  {
   "cell_type": "code",
   "execution_count": 27,
   "metadata": {
    "id": "xLPn0rT82Mmk"
   },
   "outputs": [],
   "source": [
    "result = train_df['Target']\n",
    "del train_df['Target']\n",
    "train_df.head()\n",
    "result.head()\n",
    "dataset=train_df.values\n",
    "resultat=result.values"
   ]
  },
  {
   "cell_type": "code",
   "execution_count": 28,
   "metadata": {
    "id": "0abI9Guj2anc"
   },
   "outputs": [],
   "source": [
    "import sklearn.model_selection as model_selection\n",
    "from sklearn.model_selection import train_test_split"
   ]
  },
  {
   "cell_type": "code",
   "execution_count": 29,
   "metadata": {
    "id": "2bokVkk12Mo3"
   },
   "outputs": [],
   "source": [
    "X_train,X_test,y_train,y_test = model_selection.train_test_split(dataset,resultat, train_size=0.7,test_size=0.3)"
   ]
  },
  {
   "cell_type": "code",
   "execution_count": 30,
   "metadata": {
    "id": "dWkWEUX95aEJ"
   },
   "outputs": [],
   "source": [
    "from time import time\n",
    "from sklearn import metrics"
   ]
  },
  {
   "cell_type": "code",
   "execution_count": 31,
   "metadata": {
    "colab": {
     "base_uri": "https://localhost:8080/"
    },
    "id": "AO2wkQt43I7h",
    "outputId": "cea54494-b4c1-4e4b-9fb6-1d1f6fd3030f"
   },
   "outputs": [
    {
     "name": "stdout",
     "output_type": "stream",
     "text": [
      "accuracy 0.4930032292787944\n"
     ]
    }
   ],
   "source": [
    "from sklearn.svm import SVC\n",
    "\n",
    "svm_clf =SVC(C=100, gamma=0.0001, kernel='rbf')\n",
    "svm_clf.fit(X_train,y_train)\n",
    "pred=svm_clf.predict(X_test)\n",
    "print(\"accuracy\",metrics.accuracy_score(y_test,pred))\n",
    "#print(pred)"
   ]
  },
  {
   "cell_type": "code",
   "execution_count": 32,
   "metadata": {
    "colab": {
     "base_uri": "https://localhost:8080/"
    },
    "id": "d7aU4UQP2Mtv",
    "outputId": "d01468a8-d5f2-40b0-f397-aeb9035e10a6"
   },
   "outputs": [
    {
     "name": "stdout",
     "output_type": "stream",
     "text": [
      "accuracy 0.6663078579117331\n"
     ]
    }
   ],
   "source": [
    "from sklearn.tree import DecisionTreeClassifier\n",
    "\n",
    "forest_clf = DecisionTreeClassifier(max_depth=None, min_samples_split=2,random_state=0)\n",
    "forest_clf.fit(X_train,y_train)\n",
    "pred=forest_clf.predict(X_test)\n",
    "\n",
    "print(\"accuracy\",metrics.accuracy_score(y_test,pred))"
   ]
  },
  {
   "cell_type": "code",
   "execution_count": 33,
   "metadata": {
    "colab": {
     "base_uri": "https://localhost:8080/"
    },
    "id": "JkkXvax63w3r",
    "outputId": "cdd533d5-ecf6-4816-9b6d-c6bf31a1d3ae"
   },
   "outputs": [
    {
     "name": "stdout",
     "output_type": "stream",
     "text": [
      "accuracy 0.7631862217438106\n"
     ]
    }
   ],
   "source": [
    "from sklearn.ensemble import ExtraTreesClassifier\n",
    "\n",
    "forest_clf = ExtraTreesClassifier(max_depth=None, min_samples_split=2,random_state=0)\n",
    "forest_clf.fit(X_train,y_train)\n",
    "pred=forest_clf.predict(X_test)\n",
    "\n",
    "print(\"accuracy\",metrics.accuracy_score(y_test,pred))\n"
   ]
  },
  {
   "cell_type": "code",
   "execution_count": 34,
   "metadata": {
    "colab": {
     "base_uri": "https://localhost:8080/"
    },
    "id": "Npt6hLAV34sa",
    "outputId": "a5fb4121-1192-453e-e0a1-71eb2a160e85"
   },
   "outputs": [
    {
     "name": "stdout",
     "output_type": "stream",
     "text": [
      "accuracy 0.7373519913885899\n"
     ]
    }
   ],
   "source": [
    "from sklearn.ensemble import AdaBoostClassifier\n",
    "\n",
    "ada_clf = AdaBoostClassifier(n_estimators=100)\n",
    "ada_clf.fit(X_train,y_train)\n",
    "pred=ada_clf.predict(X_test)\n",
    "\n",
    "print(\"accuracy\",metrics.accuracy_score(y_test,pred))\n"
   ]
  },
  {
   "cell_type": "code",
   "execution_count": 41,
   "metadata": {
    "colab": {
     "base_uri": "https://localhost:8080/"
    },
    "id": "FV5D2hsl2MrS",
    "outputId": "eebc72e2-e6dc-42e6-ae10-09311ad4ff3c"
   },
   "outputs": [
    {
     "name": "stdout",
     "output_type": "stream",
     "text": [
      "accuracy 0.7567276641550054\n"
     ]
    }
   ],
   "source": [
    "from sklearn.ensemble import RandomForestClassifier\n",
    "\n",
    "\n",
    "forest_clf = RandomForestClassifier(bootstrap=False,max_depth=20,max_features='auto',min_samples_leaf=2,min_samples_split=2,n_estimators=1800)\n",
    "forest_clf.fit(X_train,y_train)\n",
    "pred=forest_clf.predict(X_test)\n",
    "print(\"accuracy\",metrics.accuracy_score(y_test,pred))\n",
    "#print(pred)"
   ]
  },
  {
   "cell_type": "code",
   "execution_count": 36,
   "metadata": {
    "colab": {
     "base_uri": "https://localhost:8080/"
    },
    "id": "HZAlbSnD6etU",
    "outputId": "5107d79d-8100-44b6-dd15-a24302646b9f"
   },
   "outputs": [
    {
     "name": "stderr",
     "output_type": "stream",
     "text": [
      "/usr/local/lib/python3.7/dist-packages/sklearn/base.py:444: UserWarning: X has feature names, but RandomForestClassifier was fitted without feature names\n",
      "  f\"X has feature names, but {self.__class__.__name__} was fitted without\"\n"
     ]
    }
   ],
   "source": [
    "prediction = forest_clf.predict(test_df)\n",
    "data= pd.DataFrame(prediction)\n",
    "data[1]=data[0]\n",
    "data[0]=test_df[\"StudentId\"].astype('Int64')\n",
    "data.columns=[\"StudentId\",\"Target\"]"
   ]
  },
  {
   "cell_type": "code",
   "execution_count": 37,
   "metadata": {
    "id": "eK9Qsgsu6q6w"
   },
   "outputs": [],
   "source": [
    "data.to_csv('RandomForest.csv',columns=[\"StudentId\",\"Target\"],index=False)"
   ]
  },
  {
   "cell_type": "code",
   "execution_count": 38,
   "metadata": {
    "id": "QXaMpP5k9-La"
   },
   "outputs": [],
   "source": [
    "from sklearn.metrics import confusion_matrix\n",
    "from sklearn.metrics import classification_report\n",
    "from sklearn.metrics import accuracy_score\n",
    "from sklearn.model_selection import learning_curve\n",
    "import numpy as np\n",
    "import matplotlib.pyplot as plt"
   ]
  },
  {
   "cell_type": "code",
   "execution_count": 39,
   "metadata": {
    "id": "dOhwq_mn-Jid"
   },
   "outputs": [],
   "source": [
    "pred=forest_clf.predict(X_test)"
   ]
  },
  {
   "cell_type": "code",
   "execution_count": 40,
   "metadata": {
    "colab": {
     "base_uri": "https://localhost:8080/",
     "height": 743
    },
    "id": "ZrRfXxvK-ALu",
    "outputId": "0174bc27-a54b-4de8-885a-b12e74865bbd"
   },
   "outputs": [
    {
     "name": "stdout",
     "output_type": "stream",
     "text": [
      "[[212  25  54]\n",
      " [ 41  54  68]\n",
      " [ 14  19 442]]\n",
      "              precision    recall  f1-score   support\n",
      "\n",
      "     Dropout       0.79      0.73      0.76       291\n",
      "    Enrolled       0.55      0.33      0.41       163\n",
      "    Graduate       0.78      0.93      0.85       475\n",
      "\n",
      "    accuracy                           0.76       929\n",
      "   macro avg       0.71      0.66      0.67       929\n",
      "weighted avg       0.75      0.76      0.75       929\n",
      "\n",
      "accuracy 0.7621097954790097\n"
     ]
    },
    {
     "data": {
      "text/plain": [
       "<matplotlib.legend.Legend at 0x7f561c262cd0>"
      ]
     },
     "execution_count": 40,
     "metadata": {},
     "output_type": "execute_result"
    },
    {
     "data": {
      "image/png": "[encoded data removed]",
      "text/plain": [
       "<Figure size 864x576 with 1 Axes>"
      ]
     },
     "metadata": {
      "needs_background": "light"
     },
     "output_type": "display_data"
    }
   ],
   "source": [
    "print(confusion_matrix(y_test, pred))\n",
    "print(classification_report(y_test, pred))\n",
    "print(\"accuracy\",accuracy_score(y_test, pred))\n",
    "\n",
    "N, train_score, val_score = learning_curve(\n",
    "        forest_clf,\n",
    "        X_train,\n",
    "        y_train,\n",
    "        cv=10,\n",
    "        #scoring='f1',\n",
    "        train_sizes=np.linspace(0.1,1,10),\n",
    "        n_jobs=1,\n",
    "    )\n",
    "\n",
    "plt.figure(figsize=(12,8))\n",
    "plt.plot(N, train_score.mean(axis=1), label=\"train_score\")\n",
    "plt.plot(N, val_score.mean(axis=1), label=\"val_score\")\n",
    "plt.legend()\n",
    "\n",
    "\n"
   ]
  },
  {
   "cell_type": "markdown",
   "metadata": {
    "id": "_8wm54qIDavi"
   },
   "source": [
    "Il apparaît clairement que ce modèle fait de l'overfitting, cependant je l'ai séléctioné car il s'agissait de mon meilleur score jusqu'à présent."
   ]
  },
  {
   "cell_type": "code",
   "execution_count": null,
   "metadata": {
    "id": "4A2GDJpmDvsa"
   },
   "outputs": [],
   "source": []
  }
 ],
 "metadata": {
  "colab": {
   "name": "RandomForest.ipynb",
   "provenance": []
  },
  "kernelspec": {
   "display_name": "Python 3",
   "language": "python",
   "name": "python3"
  },
  "language_info": {
   "codemirror_mode": {
    "name": "ipython",
    "version": 3
   },
   "file_extension": ".py",
   "mimetype": "text/x-python",
   "name": "python",
   "nbconvert_exporter": "python",
   "pygments_lexer": "ipython3",
   "version": "3.8.5"
  }
 },
 "nbformat": 4,
 "nbformat_minor": 1
}
